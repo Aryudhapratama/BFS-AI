{
 "cells": [
  {
   "cell_type": "code",
   "execution_count": 4,
   "metadata": {},
   "outputs": [],
   "source": [
    "peta = {\n",
    "    'A': set(['B', 'H']),\n",
    "    'B': set(['A', 'C', 'H']),\n",
    "    'C': set(['B', 'D', 'E']),\n",
    "    'D': set(['C', 'E', 'F', 'G', 'H']),\n",
    "    'E': set(['C', 'D']),\n",
    "    'F': set(['D', 'G']),\n",
    "    'G': set(['F', 'D', 'H']),\n",
    "    'H': set(['A', 'B', 'D', 'G']),\n",
    "}\n",
    "\n",
    "def bfs_lintasan_terpendek(peta, mulai, tujuan):\n",
    "    if mulai not in peta or tujuan not in peta:\n",
    "        return \"Node awal atau tujuan tidak ditemukan dalam peta.\"\n",
    "\n",
    "    if mulai == tujuan:\n",
    "        return \"Awal dan tujuan sama.\"\n",
    "\n",
    "    explored = []\n",
    "    queue = [[mulai]]\n",
    "\n",
    "    while queue:\n",
    "        jalur = queue.pop(0)\n",
    "        node = jalur[-1]\n",
    "\n",
    "        if node not in explored:\n",
    "            neighbours = peta[node]\n",
    "\n"
   ]
  }
 ],
 "metadata": {
  "kernelspec": {
   "display_name": "myenv",
   "language": "python",
   "name": "python3"
  },
  "language_info": {
   "codemirror_mode": {
    "name": "ipython",
    "version": 3
   },
   "file_extension": ".py",
   "mimetype": "text/x-python",
   "name": "python",
   "nbconvert_exporter": "python",
   "pygments_lexer": "ipython3",
   "version": "3.10.11"
  }
 },
 "nbformat": 4,
 "nbformat_minor": 2
}
